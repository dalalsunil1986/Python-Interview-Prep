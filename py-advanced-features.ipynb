{
 "cells": [
  {
   "cell_type": "markdown",
   "metadata": {},
   "source": [
    "# Demonstration of advanced python features and coding techniques\n",
    "For the purpose of interview practice. Inspired by this really good lecture on python features:\n",
    "https://www.youtube.com/watch?v=8LusJS5-AGo&list=PLrmLmBdmIlpsHaNTPP_jHHDx_os9ItYXr"
   ]
  },
  {
   "cell_type": "code",
   "execution_count": 1,
   "metadata": {},
   "outputs": [
    {
     "name": "stdout",
     "output_type": "stream",
     "text": [
      "[(0, 1), (1, 0), (1, 1)]\n",
      "[(9, 9)]\n",
      "[(4, 1), (4, 2), (4, 3), (5, 1), (5, 3), (6, 1), (6, 2), (6, 3)]\n",
      "[(0, 1), (1, 0), (1, 1)]\n"
     ]
    }
   ],
   "source": [
    "# Efficient way to find adjacent cells in grid lookup\n",
    "length = 10\n",
    "a = [['x'] * length] * length\n",
    "\n",
    "def get_adjacent_cells(x, y):\n",
    "    # horizontal, vertical\n",
    "    rel_coords = [(1, 0), (-1, 0), (0, 1), (0, -1)] \n",
    "    # + diagonal\n",
    "    rel_coords = [(i,j) for i in (-1,0,1) for j in (-1,0,1) if not (i == j == 0)]\n",
    "    \n",
    "    result_cells = []\n",
    "    for rel_coord in rel_coords:\n",
    "        neigh_x = x + rel_coord[0]\n",
    "        neigh_y = y + rel_coord[1]\n",
    "        if neigh_x < 0 or neigh_x >= length:\n",
    "            continue\n",
    "        if neigh_y < 0 or neigh_y >= length:\n",
    "            continue\n",
    "        result_cells.append((neigh_x, neigh_y))\n",
    "    \n",
    "    return result_cells\n",
    "\n",
    "print(get_adjacent_cells(0,0))\n",
    "print(get_adjacent_cells(10,10))\n",
    "print(get_adjacent_cells(5,2))\n",
    "print(get_adjacent_cells(0,0))"
   ]
  },
  {
   "cell_type": "code",
   "execution_count": 2,
   "metadata": {},
   "outputs": [
    {
     "name": "stdout",
     "output_type": "stream",
     "text": [
      "True\n"
     ]
    },
    {
     "data": {
      "text/plain": [
       "defaultdict(<function __main__.node()>,\n",
       "            {'b': defaultdict(<function __main__.node()>,\n",
       "                         {'i': defaultdict(<function __main__.node()>,\n",
       "                                      {'g': defaultdict(<function __main__.node()>,\n",
       "                                                   {None: defaultdict(<function __main__.node()>,\n",
       "                                                                {})})}),\n",
       "                          'l': defaultdict(<function __main__.node()>,\n",
       "                                      {'u': defaultdict(<function __main__.node()>,\n",
       "                                                   {'e': defaultdict(<function __main__.node()>,\n",
       "                                                                {None: defaultdict(<function __main__.node()>,\n",
       "                                                                             {})})})})})})"
      ]
     },
     "execution_count": 2,
     "metadata": {},
     "output_type": "execute_result"
    }
   ],
   "source": [
    "# prefix trie python super simple implementation\n",
    "from collections import defaultdict\n",
    "\n",
    "def node():\n",
    "    return defaultdict(node)\n",
    "\n",
    "def word_exists(word, node):\n",
    "    if not word:\n",
    "        return None in node\n",
    "    return word_exists(word[1:], node[word[0]])\n",
    "\n",
    "def add_word(word, node):\n",
    "    if not word:\n",
    "        # terminal letter of the word\n",
    "        node[None]\n",
    "        return\n",
    "    add_word(word[1:], node[word[0]])\n",
    "                                      \n",
    "d = node()\n",
    "add_word('big', d)\n",
    "add_word('blue', d)\n",
    "\n",
    "print(word_exists('big', d))\n",
    "d"
   ]
  },
  {
   "cell_type": "code",
   "execution_count": 3,
   "metadata": {},
   "outputs": [
    {
     "data": {
      "text/plain": [
       "[(1, 'google'), (2, 'microsoft'), (3, 'mozilla')]"
      ]
     },
     "execution_count": 3,
     "metadata": {},
     "output_type": "execute_result"
    }
   ],
   "source": [
    "# built-in priority queue implementation\n",
    "from heapq import heappush, heappop\n",
    "\n",
    "priority_q = []\n",
    "heappush(priority_q, (2, 'microsoft'))\n",
    "heappush(priority_q, (3, 'mozilla'))\n",
    "heappush(priority_q, (1, 'google'))\n",
    "\n",
    "[heappop(priority_q) for _ in range(len(priority_q))]"
   ]
  },
  {
   "cell_type": "code",
   "execution_count": 4,
   "metadata": {},
   "outputs": [
    {
     "data": {
      "text/plain": [
       "Counter({'a': 3, 'b': 1, 'c': 2, 'd': 0})"
      ]
     },
     "execution_count": 4,
     "metadata": {},
     "output_type": "execute_result"
    }
   ],
   "source": [
    "# Counter is a useful tool\n",
    "from collections import Counter\n",
    "\n",
    "l = ['a', 'b', 'c', 'd', 'a', 'a', 'c']\n",
    "c = Counter(l)\n",
    "c.subtract('d')\n",
    "c"
   ]
  },
  {
   "cell_type": "code",
   "execution_count": 5,
   "metadata": {},
   "outputs": [
    {
     "name": "stdout",
     "output_type": "stream",
     "text": [
      "[1, 0, 1, 0, 1, 0]\n"
     ]
    }
   ],
   "source": [
    "# python map\n",
    "x = [1, 2, 3, 4, 5, 6]\n",
    "y = map(lambda z : z % 2 , x)\n",
    "\n",
    "print(list(y))"
   ]
  },
  {
   "cell_type": "code",
   "execution_count": 6,
   "metadata": {},
   "outputs": [
    {
     "data": {
      "text/plain": [
       "97"
      ]
     },
     "execution_count": 6,
     "metadata": {},
     "output_type": "execute_result"
    }
   ],
   "source": [
    "# to get ascii value of char\n",
    "ord('a')"
   ]
  },
  {
   "cell_type": "code",
   "execution_count": 7,
   "metadata": {},
   "outputs": [
    {
     "name": "stdout",
     "output_type": "stream",
     "text": [
      "0\n",
      "1\n",
      "2\n",
      "3\n",
      "4\n",
      "first\n",
      "user code interleaved\n",
      "second\n",
      "user code interleaved\n",
      "third\n",
      "user code interleaved\n"
     ]
    }
   ],
   "source": [
    "# generators\n",
    "\n",
    "import time\n",
    "def compute():\n",
    "    for i in range(5):\n",
    "        time.sleep(.5)\n",
    "        yield i\n",
    "        \n",
    "for x in compute():\n",
    "    print(x)\n",
    "    \n",
    "####\n",
    "# you can enforce coroutine order with generators\n",
    "class Api():\n",
    "    def run_this_first(self):\n",
    "        print('first')\n",
    "    def run_this_second(self):\n",
    "        print('second')\n",
    "    def run_this_third(self):\n",
    "        print('third')\n",
    "        \n",
    "    def api(self):\n",
    "        self.run_this_first()\n",
    "        yield\n",
    "        self.run_this_second()\n",
    "        yield\n",
    "        self.run_this_third()\n",
    "        yield\n",
    "\n",
    "a = Api()\n",
    "for i in a.api():\n",
    "    print('user code interleaved')\n",
    "\n",
    "    "
   ]
  },
  {
   "cell_type": "code",
   "execution_count": 8,
   "metadata": {},
   "outputs": [
    {
     "name": "stdout",
     "output_type": "stream",
     "text": [
      "foo\n",
      "foo\n",
      "foo\n",
      "bar\n",
      "foo\n",
      "bar\n"
     ]
    }
   ],
   "source": [
    "# iterator example\n",
    "\n",
    "a = ['foo','foo','foo','bar','foo','bar','bar']\n",
    "\n",
    "class WordIter:\n",
    "    def __init__(self, word_list):\n",
    "        self.word_list = word_list\n",
    "        self.counter = 0\n",
    "    def __iter__(self):\n",
    "        return self\n",
    "    def __next__(self):\n",
    "        self.counter += 1\n",
    "        if (len(self.word_list) > self.counter):\n",
    "            return self.word_list[self.counter - 1]\n",
    "        raise StopIteration\n",
    "        \n",
    "for i in WordIter(a):\n",
    "    print(i)"
   ]
  },
  {
   "cell_type": "code",
   "execution_count": 9,
   "metadata": {},
   "outputs": [
    {
     "name": "stdout",
     "output_type": "stream",
     "text": [
      "Entering func1\n",
      "inside func1()\n",
      "Exited func1\n",
      "Entering func2\n",
      "inside func2()\n",
      "Exited func2\n"
     ]
    }
   ],
   "source": [
    "# decorators in python\n",
    "class entry_exit(object):\n",
    "\n",
    "    def __init__(self, f):\n",
    "        self.f = f\n",
    "\n",
    "    def __call__(self):\n",
    "        print(\"Entering\", self.f.__name__)\n",
    "        self.f()\n",
    "        print(\"Exited\", self.f.__name__)\n",
    "\n",
    "@entry_exit\n",
    "def func1():\n",
    "    print(\"inside func1()\")\n",
    "\n",
    "@entry_exit\n",
    "def func2():\n",
    "    print(\"inside func2()\")\n",
    "\n",
    "func1()\n",
    "func2()"
   ]
  },
  {
   "cell_type": "code",
   "execution_count": 10,
   "metadata": {},
   "outputs": [
    {
     "data": {
      "text/plain": [
       "True"
      ]
     },
     "execution_count": 10,
     "metadata": {},
     "output_type": "execute_result"
    }
   ],
   "source": [
    "# binary search\n",
    "a = [0,1,2,3,4,5,6,7,8,9,12,45,67,83]\n",
    "\n",
    "def bin_search(v, l):   \n",
    "    low = 0\n",
    "    high = len(l) - 1\n",
    "    \n",
    "    while(low <= high):\n",
    "        mid = (high + low) // 2\n",
    "        \n",
    "        if l[mid] == v:\n",
    "            return True\n",
    "        elif l[mid] > v:\n",
    "            high = mid - 1\n",
    "        elif l[mid] < v:\n",
    "            low = mid + 1\n",
    "        else:\n",
    "            return False\n",
    "    return False      \n",
    "\n",
    "bin_search(2, [1, 2])"
   ]
  },
  {
   "cell_type": "code",
   "execution_count": 11,
   "metadata": {},
   "outputs": [],
   "source": [
    "# graph\n",
    "graph = {\n",
    "          'a': {'b': 1, 'c':  4},\n",
    "          'b': {'c':  3, 'd':  2, 'e':  4},\n",
    "          'c': {},\n",
    "          'd': {'b':  1, 'c':  2},\n",
    "          'e': {'d': 1}\n",
    "        }"
   ]
  },
  {
   "cell_type": "code",
   "execution_count": 12,
   "metadata": {},
   "outputs": [],
   "source": [
    "# DFS\n",
    "# stack"
   ]
  },
  {
   "cell_type": "code",
   "execution_count": 13,
   "metadata": {},
   "outputs": [],
   "source": [
    "# Topological sort\n",
    "# loop through each node. If not in visited, initiate a depth first search and add nodes."
   ]
  },
  {
   "cell_type": "code",
   "execution_count": 14,
   "metadata": {},
   "outputs": [],
   "source": [
    "# BFS\n",
    "#queue"
   ]
  },
  {
   "cell_type": "code",
   "execution_count": 15,
   "metadata": {},
   "outputs": [
    {
     "name": "stdout",
     "output_type": "stream",
     "text": [
      "039aaeistt\n"
     ]
    }
   ],
   "source": [
    "# merge sort\n",
    "def merge_sort(arr):\n",
    "    if len(arr) <= 1:\n",
    "        return arr\n",
    "    mid = len(arr)//2\n",
    "    #recursion\n",
    "    left = merge_sort(arr[0:mid])\n",
    "    right = merge_sort(arr[mid:])\n",
    "    #merging\n",
    "    merged = []\n",
    "    left_i = 0\n",
    "    right_i = 0\n",
    "    while (left_i < len(left)):\n",
    "        if (right_i < len(right) and left[left_i] > right[right_i]):\n",
    "            merged.append(right[right_i])\n",
    "            right_i += 1\n",
    "            continue\n",
    "        merged.append(left[left_i])\n",
    "        left_i += 1\n",
    "    merged += right[right_i:]\n",
    "    return merged\n",
    "    \n",
    "       \n",
    "merge_sort([22,33,44,55,66,1,4,2,8,4,91])    \n",
    "\n",
    "#Write a program to sort a string without using java API? \n",
    "#I/P : \"a390testai\" \n",
    "#O/P: 039aaiest\n",
    "\n",
    "def sort_string(string):\n",
    "    arr = [ord(x) for x in string]\n",
    "    arr = merge_sort(arr)\n",
    "    return [chr(x) for x in arr]\n",
    "\n",
    "print(''.join(sort_string('a390testai')))"
   ]
  },
  {
   "cell_type": "code",
   "execution_count": 16,
   "metadata": {},
   "outputs": [
    {
     "name": "stdout",
     "output_type": "stream",
     "text": [
      "0 a\n",
      "1 b\n",
      "3 d\n",
      "4 c\n",
      "5 e\n",
      "{'a': inf, 'b': 1, 'c': 4, 'd': 3, 'e': 5}\n",
      "{'b': 'a', 'c': 'a', 'd': 'b', 'e': 'b'}\n",
      "{'a': 0, 'b': 1, 'c': 4, 'd': 3, 'e': 5}\n",
      "{'a': None, 'b': 'a', 'c': 'a', 'd': 'b', 'e': 'b'}\n"
     ]
    }
   ],
   "source": [
    "# Dijkstra's implementation\n",
    "\n",
    "from heapq import heappush, heappop\n",
    "from math import inf\n",
    "\n",
    "'''\n",
    "state\n",
    "a = 8\n",
    "b = 5\n",
    "ba = 2\n",
    "a is already on the min heap with 8\n",
    "b is the smallest distance, so we explore it\n",
    "we update the value of a to 7, push to heapq\n",
    "the update works because the next time we look into the min_heap it will find the min. \n",
    "If we already visited an element that means we foudn the optimal solution for that element already\n",
    "=================\n",
    "A* is a dijkstra's algorithm with an added heuristic estimation of how much further one has to go.\n",
    "'''\n",
    "\n",
    "def dijkstra_heapq(graph, start, end):\n",
    "    \n",
    "    visited = set()\n",
    "    min_heap = [(0, start)]\n",
    "    distances = {node : inf for node in graph.keys()}\n",
    "    sources = {}\n",
    "    \n",
    "    while min_heap:\n",
    "        weight, val = heappop(min_heap) \n",
    "        if val in visited:\n",
    "            continue\n",
    "        print(weight, val)\n",
    "        visited.add(val)\n",
    "        for adj_val, adj_weight in graph[val].items():\n",
    "            if (distances[adj_val] >  weight + adj_weight):\n",
    "                distances[adj_val] = weight + adj_weight\n",
    "                sources[adj_val] = val\n",
    "                heappush(min_heap, (weight + adj_weight, adj_val)) \n",
    "    \n",
    "    print(distances)\n",
    "    print(sources)\n",
    "            \n",
    "dijkstra_heapq(graph, 'a', 'e')    \n",
    "\n",
    "def dijkstra_linear(graph, start, end):\n",
    "    vertices = set(graph.keys())\n",
    "    distances = {key: float('inf') for key in graph.keys()}\n",
    "    distances[start] = 0\n",
    "    sources = {key: None for key in graph.keys()}\n",
    "    \n",
    "    while vertices:\n",
    "        curr = min(vertices, key=lambda x: distances[x])\n",
    "        vertices.remove(curr)\n",
    "        if distances[curr] == float('inf'):\n",
    "            return 0\n",
    "        for adj_val, adj_weight in graph[curr].items():\n",
    "            if distances[adj_val] > distances[curr] + adj_weight:\n",
    "                distances[adj_val] = distances[curr] + adj_weight\n",
    "                sources[adj_val] = curr\n",
    "                \n",
    "    print(distances)\n",
    "    print(sources)\n",
    "    \n",
    "dijkstra_linear(graph, 'a', 'e')"
   ]
  },
  {
   "cell_type": "code",
   "execution_count": 17,
   "metadata": {},
   "outputs": [
    {
     "name": "stdout",
     "output_type": "stream",
     "text": [
      "[(5, 7)] 6 7\n",
      "[(4, 5), (5, 7)] 6 7\n",
      "[(3, 4), (4, 5), (5, 7)] 6 7\n",
      "[(4, 5), (5, 7)] 4 5\n",
      "[(5, 7)] 7 7\n",
      "[(4, 5), (5, 7)] 7 7\n",
      "[(3, 4), (4, 5), (5, 7)] 7 9\n",
      "[(1, 1), (3, 4), (4, 5), (5, 7)] 7 9\n",
      "9\n",
      "[0, 1, 1, 4, 5, 7, 8, 9]\n",
      "[0, 1, 1, 4, 5, 7, 8, 9]\n",
      "9\n"
     ]
    }
   ],
   "source": [
    "# Classic 0/1 knapsack problem\n",
    "# looking for max val with total_wt <= wt \n",
    "# item = (wt, val)\n",
    "\n",
    "total_wt = 7\n",
    "items = [(1, 1), (3, 4), (4, 5), (5, 7)]\n",
    "\n",
    "\n",
    "def rec(items, wt):\n",
    "    if (not len(items)) or wt < 0 or wt < items[0][0]:\n",
    "        return 0\n",
    "    include = rec(items[1:], wt - items[0][0]) + items[0][1]\n",
    "    exclude = rec(items[1:], wt)\n",
    "    print(items, wt, max(include, exclude))\n",
    "    return max(include, exclude)\n",
    "\n",
    "\n",
    "#   0 1 2 3 4 5 6 7\n",
    "# 0 0 0 0 0 0 0 0 0 \n",
    "# 1 0 1 1 1 1 1 1 1\n",
    "# 3 0 1 1 1 \n",
    "\n",
    "from math import inf\n",
    "def dp(items, total_wt):\n",
    "    current = [0] * (total_wt + 1)\n",
    "    previous = [0] * (total_wt + 1)\n",
    "    for wt, val in items:\n",
    "        for ind, el in enumerate(current[1:]): # ind == current wt allowance\n",
    "            ind += 1\n",
    "            if (wt <= ind):\n",
    "                current[ind] = max(previous[ind], val + previous[ind-wt if ind-wt > 0 else 0])\n",
    "            else:\n",
    "                current[ind] = previous[ind]\n",
    "        previous = current[:]\n",
    "    \n",
    "    print(previous)\n",
    "    print(current)\n",
    "    return current[-1]\n",
    "\n",
    "\n",
    "print(rec(items, total_wt))\n",
    "print(dp(items, total_wt))"
   ]
  },
  {
   "cell_type": "code",
   "execution_count": 18,
   "metadata": {},
   "outputs": [
    {
     "name": "stdout",
     "output_type": "stream",
     "text": [
      "22\n",
      "2 1 [0, 2, 4, 6, 8, 10, 12, 14, 16]\n",
      "5 2 [0, 2, 5, 7, 10, 12, 15, 17, 20]\n",
      "8 3 [0, 2, 5, 8, 10, 13, 16, 18, 21]\n",
      "9 4 [0, 2, 5, 8, 10, 13, 16, 18, 21]\n",
      "10 5 [0, 2, 5, 8, 10, 13, 16, 18, 21]\n",
      "17 6 [0, 2, 5, 8, 10, 13, 17, 19, 22]\n",
      "17 7 [0, 2, 5, 8, 10, 13, 17, 19, 22]\n",
      "20 8 [0, 2, 5, 8, 10, 13, 17, 19, 22]\n",
      "22\n"
     ]
    }
   ],
   "source": [
    "# Classic rod cutting problem\n",
    "\n",
    "len_price = {1: 2, 2: 5, 3: 8, 4: 9, 5: 10, 6: 17, 7: 17, 8: 20}\n",
    "item_list = [(el, len_price[el]) for el in list(len_price)]\n",
    "\n",
    "'''\n",
    "items = array[(length, val)]\n",
    "'''\n",
    "def rec(items, length, depth):\n",
    "    if length <= 0:\n",
    "        return 0\n",
    "    max_val = 0\n",
    "    depth += 1\n",
    "    #print(depth)\n",
    "    for l, val in items:\n",
    "        if length - l >= 0:\n",
    "            max_val = max(max_val, rec(items, length - l, depth) + val)\n",
    "    return max_val\n",
    "\n",
    "print(rec(item_list, 8, 0))\n",
    "\n",
    "'''\n",
    "    0 1 2 3 4   5  6  7  8\n",
    "3 1 0 3 6 9 12 15 18  21 24\n",
    "5 2 0 3 6 \n",
    "\n",
    "items = array[(length, val)]\n",
    "'''\n",
    "def dp(items, length):\n",
    "    current = [0] * (length + 1)\n",
    "    previous = [0] * (length + 1)\n",
    "    \n",
    "    for piece, val in items:\n",
    "        for i in range(length):\n",
    "            i += 1\n",
    "            if piece <= i:\n",
    "                current[i] = max(previous[i], val + current[i - piece if i - piece > 0 else 0])\n",
    "            else:\n",
    "                current[i] = max(previous[i], current[i - 1])\n",
    "        previous = current[:]\n",
    "        print(val, piece, current)\n",
    "    return current[-1]\n",
    "\n",
    "print(dp(item_list, 8))\n",
    "    "
   ]
  },
  {
   "cell_type": "code",
   "execution_count": 19,
   "metadata": {},
   "outputs": [
    {
     "name": "stdout",
     "output_type": "stream",
     "text": [
      "[(9, 2), (3, 2), (3, 6), (8, 6)]\n",
      "3\n",
      "[(5, 4), (1, 4), (7, 1), (9, 2), (8, 6), (3, 6)]\n"
     ]
    }
   ],
   "source": [
    "# Given matrix in which each cell is either filled with 'C' (Computer) or empty.\n",
    "# Computers can communicate if they are in the same row or in the same column. \n",
    "# Computers can also communicate through middleware computers. \n",
    "# Given index of a computer, find all computers it can communicate with. \n",
    "# How many communication paths are there? \n",
    "# Find the order of turning computers off, in which every computer will manage to communicate with another computer in order to pass the data it stores before it is turned off, keeping minimum computers on in the end.\n",
    "\n",
    "matrix = [\n",
    "         ['', 'C','','','','','','','',''],\n",
    "         ['C', '','','','','','','C','',''],\n",
    "         ['', '','','C','','','','','','C'],\n",
    "         ['', '','','','','','','','',''],\n",
    "         ['', 'C','','','','C','','','',''],\n",
    "         ['', '','','','','','','','',''],\n",
    "         ['', '','','C','','','','','C','']]\n",
    "\n",
    "def find_connected(x, y, visited_c, visited_r):\n",
    "    if matrix[y][x] != 'C':\n",
    "        return []\n",
    "    stack = [(x,y)]\n",
    "    connected = set()\n",
    "    path = []\n",
    "    connected.add((x,y))\n",
    "    while stack:\n",
    "        current_x, current_y = stack.pop(-1)\n",
    "        #look at rows\n",
    "        if(current_y not in visited_r):\n",
    "            for ind, el in enumerate(matrix[current_y]):\n",
    "                if el == 'C' and (ind, current_y) not in connected:\n",
    "                    connected.add((ind, current_y))\n",
    "                    stack.append((ind, current_y))\n",
    "                \n",
    "        #look at columns\n",
    "        if(current_x not in visited_r):\n",
    "            for ind, el in enumerate(matrix):\n",
    "                if el[current_x] == 'C' and (current_x, ind) not in connected:\n",
    "                    connected.add((current_x, ind))\n",
    "                    stack.append((current_x, ind))\n",
    "        visited_r.add(current_y)\n",
    "        visited_c.add(current_x)\n",
    "        path = [(current_x, current_y)] + path\n",
    "    return path\n",
    "        \n",
    "print(find_connected(8,6, set(), set()))\n",
    "\n",
    "def find_paths(matrix):\n",
    "    visited_c = set()\n",
    "    visited_r = set()\n",
    "    paths = 0\n",
    "    for row_i, row in enumerate(matrix):\n",
    "        for col, elem in enumerate(row):\n",
    "            if row_i not in visited_r and col not in visited_c:\n",
    "                if find_connected(col, row_i, visited_c, visited_r):\n",
    "                    paths += 1\n",
    "    return paths\n",
    "\n",
    "print(find_paths(matrix))\n",
    "    \n",
    "\n",
    "def find_turnoff_order(matrix):\n",
    "    visited_c = set()\n",
    "    visited_r = set()\n",
    "    order = []\n",
    "    for row_i, row in enumerate(matrix):\n",
    "        for col, elem in enumerate(row):\n",
    "            if row_i not in visited_r and col not in visited_c:\n",
    "                path = find_connected(col, row_i, visited_c, visited_r)[:-1]\n",
    "                if path:\n",
    "                    order += path\n",
    "                    \n",
    "    return order\n",
    "\n",
    "print(find_turnoff_order(matrix))"
   ]
  },
  {
   "cell_type": "code",
   "execution_count": 20,
   "metadata": {},
   "outputs": [
    {
     "name": "stdout",
     "output_type": "stream",
     "text": [
      "0b10111\n",
      "0b100110\n",
      "0b10111010\n",
      "0b100110100\n",
      "0b111010000\n",
      "0b110100000\n",
      "6\n",
      "0b111111111\n"
     ]
    }
   ],
   "source": [
    "# binary arrays in python\n",
    "# You start with an empty binary array 0b00000000. The question is: can you transform it into 0b111111111 by using only the given flips? (XOR = flip)\n",
    "\n",
    "flips = [\n",
    "        int('0b110100000', 2),\n",
    "        int('0b111010000', 2),\n",
    "        int('0b011001000', 2),\n",
    "        int('0b100110100', 2),\n",
    "        int('0b010111010', 2),\n",
    "        int('0b001011001', 2),\n",
    "        int('0b000100110', 2),\n",
    "        int('0b000010111', 2),\n",
    "        int('0b000001011', 2)]\n",
    "\n",
    "def find_flips(state, index):\n",
    "    if state == int('0b111111111', 2):\n",
    "        return 0\n",
    "    if index >= len(flips):\n",
    "        return float('inf')\n",
    "    \n",
    "    result = float('inf')\n",
    "    #include current flip\n",
    "    state_include = state ^ flips[index]\n",
    "    result_include = find_flips(state_include, index + 1) + 1\n",
    "    \n",
    "    #exclude current flip\n",
    "    result_exclude = find_flips(state, index + 1)\n",
    "    if result_include < result_exclude <= result:\n",
    "        print(bin(flips[index]))\n",
    "    \n",
    "    return min(result, result_exclude, result_include)\n",
    "\n",
    "print(find_flips(int('0b000110000', 2), 0))\n",
    "print(bin(int('0b000110000', 2)^int('0b000010111', 2)^int('0b000100110', 2)^int('0b010111010', 2)^int('0b100110100', 2)^int('0b111010000', 2)^int('0b110100000', 2)))"
   ]
  },
  {
   "cell_type": "code",
   "execution_count": 21,
   "metadata": {},
   "outputs": [
    {
     "name": "stdout",
     "output_type": "stream",
     "text": [
      "0\n",
      "0\n",
      "[[], [], [], [], []]\n",
      "{('dbg', ('p', 'c', 'h', 'l', 'z', 'g', 'c', 'h', 'l', 'z', 'd', 'c', 'h', 'l', 'z')): None, ('bdbg', ('p', 'c', 'h', 'l', 'z', 'g', 'c', 'h', 'l', 'z', 'b', 'm', 'h', 'l', 'z', 'd', 'c', 'h', 'l', 'z')): None, ('ybdbg', ('p', 'c', 'h', 'l', 'z', 'g', 'c', 'h', 'l', 'z', 'b', 'm', 'h', 'l', 'z', 'y', 'c', 'h', 'l', 'z', 'd', 'c', 'h', 'l', 'z')): None}\n",
      "None\n"
     ]
    }
   ],
   "source": [
    "# Given a word of length n, and n six-sided dice with a character in each side, find out if this word is constructible by the set of given dice\n",
    "word1 = \"ybdbg\";\n",
    "dice1 = [['p', 'c','h','l','z'],\n",
    "        ['g', 'c','h','l','z'],\n",
    "        ['b', 'm','h','l','z'],\n",
    "        ['y', 'c','h','l','z'],\n",
    "        ['d', 'c','h','l','z']];\n",
    "\n",
    "flatten = lambda l: tuple([item for sublist in l for item in sublist])\n",
    "\n",
    "def rec_memoization(word, dice, mem):\n",
    "    if (word, flatten(dice)) in mem:\n",
    "        return mem[(word, flatten(dice))]\n",
    "    \n",
    "    result = 0\n",
    "    if not word:\n",
    "        return 1\n",
    "    for ind, elem in enumerate(dice):\n",
    "        if word[0] in elem:\n",
    "            result = max(result, rec_memoization(word[1:], dice[:ind]+dice[ind+1:], mem))\n",
    "    mem[(word, flatten(dice))] = result\n",
    "    return result\n",
    "\n",
    "mem = {}\n",
    "print(rec_memoization(word1, dice1, mem))\n",
    "\n",
    "\n",
    "def rec_backtracking(word, dice, positions, mem):        \n",
    "    if (word, flatten(dice)) in mem:\n",
    "        print('hit')\n",
    "        if mem[(word, flatten(dice))]:\n",
    "            for ind, elem in enumerate(word):\n",
    "                position[ind] = elem\n",
    "            return 1\n",
    "        return 0\n",
    "    \n",
    "    result = 0\n",
    "    if not word:\n",
    "        return 1\n",
    "    for ind, elem in enumerate(dice):\n",
    "        if word[0] in elem:\n",
    "            if rec_backtracking(word[1:], dice[:ind]+dice[ind+1:], positions, mem) == 1:\n",
    "                positions[len(word) - 1] = elem\n",
    "                mem[(word, flatten(dice))] = positions[:len(word)]\n",
    "                return 1\n",
    "            mem[(word, flatten(dice))] = None\n",
    "    return result\n",
    "\n",
    "positions = [[] for _ in range(len(word1))]\n",
    "mem = {}\n",
    "\n",
    "print(rec_backtracking(word1, dice1, positions, mem))\n",
    "print(positions)\n",
    "print(mem)\n",
    "print(mem[(word1, flatten(dice1))])"
   ]
  }
 ],
 "metadata": {
  "kernelspec": {
   "display_name": "Python 3",
   "language": "python",
   "name": "python3"
  },
  "language_info": {
   "codemirror_mode": {
    "name": "ipython",
    "version": 3
   },
   "file_extension": ".py",
   "mimetype": "text/x-python",
   "name": "python",
   "nbconvert_exporter": "python",
   "pygments_lexer": "ipython3",
   "version": "3.7.1"
  }
 },
 "nbformat": 4,
 "nbformat_minor": 2
}
